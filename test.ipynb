{
 "cells": [
  {
   "cell_type": "code",
   "execution_count": 1,
   "id": "a2b0c05d",
   "metadata": {},
   "outputs": [
    {
     "name": "stdout",
     "output_type": "stream",
     "text": [
      "<|im_start|>system\n",
      "Test system message<|im_end|>\n",
      "<|im_start|>user\n",
      "<image>\n",
      "Hello!<|im_end|>\n",
      "<|im_start|>assistant\n",
      "Hi there!<|im_end|>\n",
      "\n"
     ]
    }
   ],
   "source": [
    "from jinja2 import Template\n",
    "\n",
    "CHAT_TEMPLATE = \"\"\"\n",
    "{%- set nl = '\\\\n' -%}\n",
    "{%- set im_start = '<|im_start|>' -%}\n",
    "{%- set im_end = '<|im_end|>' -%}\n",
    "{{- im_start -}}system{{- nl -}}{{- system_message -}}{{- im_end -}}{{- nl -}}\n",
    "{%- for message in messages -%}\n",
    "    {%- if message.from == 'human' -%}\n",
    "        {{- im_start -}}user{{- nl -}}\n",
    "        {%- if message.value is not none -%}\n",
    "            {%- set parts = message.value.split('<image>') -%}\n",
    "            {%- for part in parts -%}\n",
    "                {{- part -}}\n",
    "                {%- if not loop.last -%}<image>{{- nl -}}{%- endif -%}\n",
    "            {%- endfor -%}\n",
    "        {%- endif -%}\n",
    "        {{- im_end -}}{{- nl -}}\n",
    "    {%- elif message.from == 'gpt' -%}\n",
    "        {{- im_start -}}assistant{{- nl -}}\n",
    "        {{- message.value if message.value is not none else '' -}}\n",
    "        {{- im_end -}}{{- nl -}}\n",
    "    {%- endif -%}\n",
    "{%- endfor -%}\n",
    "\"\"\"\n",
    "\n",
    "conversation = [\n",
    "        {\"from\": \"human\", \"value\": \"<image>Hello!\"},\n",
    "        {\"from\": \"gpt\", \"value\": \"Hi there!\"}\n",
    "]\n",
    "system_message = \"Test system message\"\n",
    "template = Template(CHAT_TEMPLATE)\n",
    "rendered = template.render(\n",
    "    system_message=system_message,\n",
    "    messages=conversation\n",
    ")\n",
    "print(rendered)"
   ]
  },
  {
   "cell_type": "code",
   "execution_count": 19,
   "id": "0b7da7c2",
   "metadata": {},
   "outputs": [],
   "source": [
    "from transformers import AutoTokenizer\n",
    "import torch, re\n",
    "from llava.constants import IGNORE_INDEX, DEFAULT_IMAGE_TOKEN, IMAGE_TOKEN_INDEX, DEFAULT_IMAGE_PATCH_TOKEN, DEFAULT_IM_START_TOKEN, DEFAULT_IM_END_TOKEN\n",
    "\n",
    "def preprocess_qwen(sources, tokenizer, has_image: bool = False, max_len=2048, system_message: str = \"You are a helpful assistant.\"):\n",
    "    roles = {\"human\": \"<|im_start|>user\", \"gpt\": \"<|im_start|>assistant\"}\n",
    "    im_start, im_end = tokenizer.additional_special_tokens_ids\n",
    "    nl_tokens = tokenizer(\"\\n\").input_ids\n",
    "    _system = tokenizer(\"system\").input_ids + nl_tokens\n",
    "    input_ids = []\n",
    "    source = sources\n",
    "    if roles[source[0][\"from\"]] != roles[\"human\"]: source = source[1:]\n",
    "    input_id, target = [], []\n",
    "    system = [im_start] + _system + tokenizer(system_message).input_ids + [im_end] + nl_tokens\n",
    "    input_id += system\n",
    "    target += [im_start] + [IGNORE_INDEX] * (len(system) - 3) + [im_end] + nl_tokens\n",
    "    assert len(input_id) == len(target)\n",
    "    for j, sentence in enumerate(source):\n",
    "        role = roles[sentence[\"from\"]]\n",
    "        if has_image and sentence[\"value\"] is not None and \"<image>\" in sentence[\"value\"]:\n",
    "            num_image = len(re.findall(DEFAULT_IMAGE_TOKEN, sentence[\"value\"]))\n",
    "            texts = sentence[\"value\"].split('<image>')\n",
    "            _input_id = tokenizer(role).input_ids + nl_tokens \n",
    "            for i,text in enumerate(texts):\n",
    "                _input_id += tokenizer(text).input_ids \n",
    "                if i<len(texts)-1: _input_id += [IMAGE_TOKEN_INDEX] + nl_tokens\n",
    "            _input_id += [im_end] + nl_tokens\n",
    "            assert sum([i==IMAGE_TOKEN_INDEX for i in _input_id])==num_image\n",
    "        else:\n",
    "            if sentence[\"value\"] is None: _input_id = tokenizer(role).input_ids + nl_tokens\n",
    "            else: _input_id = tokenizer(role).input_ids + nl_tokens + tokenizer(sentence[\"value\"]).input_ids + [im_end] + nl_tokens\n",
    "        input_id += _input_id\n",
    "    input_ids.append(input_id)\n",
    "    return torch.tensor(input_ids, dtype=torch.long)\n",
    "\n",
    "tokenizer = AutoTokenizer.from_pretrained('neulab/Pangea-7B')\n",
    "tokenizer.add_tokens([DEFAULT_IMAGE_PATCH_TOKEN], special_tokens=True)\n",
    "tokenizer.add_tokens([DEFAULT_IM_START_TOKEN, DEFAULT_IM_END_TOKEN], special_tokens=True)\n",
    "tokenizer.add_tokens([DEFAULT_IMAGE_TOKEN], special_tokens=True)\n",
    "input_ids = preprocess_qwen(conversation, tokenizer, has_image=True, system_message=system_message)"
   ]
  },
  {
   "cell_type": "code",
   "execution_count": 20,
   "id": "f17f02e2",
   "metadata": {},
   "outputs": [
    {
     "data": {
      "text/plain": [
       "tensor([[151644,   8948,    198,   2271,   1849,   1943, 151645,    198, 151644,\n",
       "            872,    198,   -200,    198,   9707,      0, 151645,    198, 151644,\n",
       "          77091,    198,  13048,   1052,      0, 151645,    198]])"
      ]
     },
     "execution_count": 20,
     "metadata": {},
     "output_type": "execute_result"
    }
   ],
   "source": [
    "input_ids"
   ]
  },
  {
   "cell_type": "code",
   "execution_count": 21,
   "id": "dbddb878",
   "metadata": {},
   "outputs": [
    {
     "data": {
      "text/plain": [
       "151650"
      ]
     },
     "execution_count": 21,
     "metadata": {},
     "output_type": "execute_result"
    }
   ],
   "source": [
    "len(tokenizer.vocab)"
   ]
  },
  {
   "cell_type": "code",
   "execution_count": 25,
   "id": "a8d81453",
   "metadata": {},
   "outputs": [
    {
     "data": {
      "text/plain": [
       "True"
      ]
     },
     "execution_count": 25,
     "metadata": {},
     "output_type": "execute_result"
    }
   ],
   "source": [
    "new_input_ids = tokenizer(rendered)[\"input_ids\"]\n",
    "image_token_id = tokenizer.convert_tokens_to_ids(DEFAULT_IMAGE_TOKEN)\n",
    "new_input_ids[new_input_ids.index(image_token_id)] = IMAGE_TOKEN_INDEX\n",
    "new_input_ids == input_ids[0].tolist()"
   ]
  },
  {
   "cell_type": "code",
   "execution_count": 13,
   "id": "fbd66d24",
   "metadata": {},
   "outputs": [
    {
     "data": {
      "text/plain": [
       "151649"
      ]
     },
     "execution_count": 13,
     "metadata": {},
     "output_type": "execute_result"
    }
   ],
   "source": [
    "len(tokenizer.vocab)"
   ]
  },
  {
   "cell_type": "code",
   "execution_count": 16,
   "id": "004a9ab4",
   "metadata": {},
   "outputs": [
    {
     "name": "stdout",
     "output_type": "stream",
     "text": [
      "<|im_start|>system\n",
      "Test system message<|im_end|>\n",
      "<|im_start|>user\n",
      "\n"
     ]
    }
   ],
   "source": [
    "print(tokenizer.decode(input_ids[0][:11]))"
   ]
  }
 ],
 "metadata": {
  "kernelspec": {
   "display_name": "pangea",
   "language": "python",
   "name": "python3"
  },
  "language_info": {
   "codemirror_mode": {
    "name": "ipython",
    "version": 3
   },
   "file_extension": ".py",
   "mimetype": "text/x-python",
   "name": "python",
   "nbconvert_exporter": "python",
   "pygments_lexer": "ipython3",
   "version": "3.10.16"
  }
 },
 "nbformat": 4,
 "nbformat_minor": 5
}
